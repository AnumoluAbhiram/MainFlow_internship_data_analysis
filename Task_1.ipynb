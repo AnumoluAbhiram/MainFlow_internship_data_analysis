{
  "nbformat": 4,
  "nbformat_minor": 0,
  "metadata": {
    "colab": {
      "provenance": [],
      "authorship_tag": "ABX9TyOmItaStVZPGZuRsBitZdrU",
      "include_colab_link": true
    },
    "kernelspec": {
      "name": "python3",
      "display_name": "Python 3"
    },
    "language_info": {
      "name": "python"
    }
  },
  "cells": [
    {
      "cell_type": "markdown",
      "metadata": {
        "id": "view-in-github",
        "colab_type": "text"
      },
      "source": [
        "<a href=\"https://colab.research.google.com/github/AnumoluAbhiram/MainFlow_internship_data_analysis/blob/main/Task_1.ipynb\" target=\"_parent\"><img src=\"https://colab.research.google.com/assets/colab-badge.svg\" alt=\"Open In Colab\"/></a>"
      ]
    },
    {
      "cell_type": "markdown",
      "source": [
        "List"
      ],
      "metadata": {
        "id": "RiJGz3ENQaJT"
      }
    },
    {
      "cell_type": "code",
      "execution_count": 15,
      "metadata": {
        "colab": {
          "base_uri": "https://localhost:8080/"
        },
        "id": "kqaB3XOUO86e",
        "outputId": "ef7468af-9ea9-4a43-e59e-8d27e3cf2a35"
      },
      "outputs": [
        {
          "output_type": "execute_result",
          "data": {
            "text/plain": [
              "[1, 2, 3, 4, 5]"
            ]
          },
          "metadata": {},
          "execution_count": 15
        }
      ],
      "source": [
        "# Creating a list\n",
        "my_list = [1, 2, 3, 4, 5]\n",
        "my_list"
      ]
    },
    {
      "cell_type": "code",
      "source": [
        "# Adding an element to the list\n",
        "my_list.append(6)\n",
        "print(\"List after adding an element:\", my_list)\n"
      ],
      "metadata": {
        "colab": {
          "base_uri": "https://localhost:8080/"
        },
        "id": "UEsg_oQAPFbI",
        "outputId": "2fbef2a0-2d44-4f0e-c3df-0a3f39907236"
      },
      "execution_count": 2,
      "outputs": [
        {
          "output_type": "stream",
          "name": "stdout",
          "text": [
            "List after adding an element: [1, 2, 3, 4, 5, 6]\n"
          ]
        }
      ]
    },
    {
      "cell_type": "code",
      "source": [
        "# Removing an element from the list\n",
        "my_list.remove(3)\n",
        "print(\"List after removing an element:\", my_list)"
      ],
      "metadata": {
        "colab": {
          "base_uri": "https://localhost:8080/"
        },
        "id": "EwPf9geAPN9Y",
        "outputId": "5c6eca84-929d-46e0-b187-c90b150a2fdc"
      },
      "execution_count": 3,
      "outputs": [
        {
          "output_type": "stream",
          "name": "stdout",
          "text": [
            "List after removing an element: [1, 2, 4, 5, 6]\n"
          ]
        }
      ]
    },
    {
      "cell_type": "code",
      "source": [
        "# Modifying an element in the list\n",
        "my_list[2] = 10\n",
        "print(\"List after modifying an element:\", my_list)"
      ],
      "metadata": {
        "colab": {
          "base_uri": "https://localhost:8080/"
        },
        "id": "ABqGIhm8PT6d",
        "outputId": "6a173342-dc5d-45c9-8f36-75c8d2479d34"
      },
      "execution_count": 4,
      "outputs": [
        {
          "output_type": "stream",
          "name": "stdout",
          "text": [
            "List after modifying an element: [1, 2, 10, 5, 6]\n"
          ]
        }
      ]
    },
    {
      "cell_type": "markdown",
      "source": [
        "Dictionary\n"
      ],
      "metadata": {
        "id": "326JkUWPQTTb"
      }
    },
    {
      "cell_type": "code",
      "source": [
        "# Creating a dictionary\n",
        "my_dict = {'a': 1, 'b': 2, 'c': 3}\n",
        "my_dict"
      ],
      "metadata": {
        "colab": {
          "base_uri": "https://localhost:8080/"
        },
        "id": "oJvu3FvlPeEc",
        "outputId": "afd5c184-866e-4966-ed78-13bba4eb60c0"
      },
      "execution_count": 16,
      "outputs": [
        {
          "output_type": "execute_result",
          "data": {
            "text/plain": [
              "{'a': 1, 'b': 2, 'c': 3}"
            ]
          },
          "metadata": {},
          "execution_count": 16
        }
      ]
    },
    {
      "cell_type": "code",
      "source": [
        "# Adding a key-value pair to the dictionary\n",
        "my_dict['d'] = 4\n",
        "print(\"Dictionary after adding a key-value pair:\", my_dict)"
      ],
      "metadata": {
        "colab": {
          "base_uri": "https://localhost:8080/"
        },
        "id": "N2Ex0ZFrPhW9",
        "outputId": "0702ff99-c3d2-4e68-9b59-9301cdae79ee"
      },
      "execution_count": 6,
      "outputs": [
        {
          "output_type": "stream",
          "name": "stdout",
          "text": [
            "Dictionary after adding a key-value pair: {'a': 1, 'b': 2, 'c': 3, 'd': 4}\n"
          ]
        }
      ]
    },
    {
      "cell_type": "code",
      "source": [
        "# Removing a key-value pair from the dictionary\n",
        "del my_dict['b']\n",
        "print(\"Dictionary after removing a key-value pair:\", my_dict)"
      ],
      "metadata": {
        "colab": {
          "base_uri": "https://localhost:8080/"
        },
        "id": "crXjawvhPj_C",
        "outputId": "c5b557db-59da-49cb-fa34-dc565161dae3"
      },
      "execution_count": 7,
      "outputs": [
        {
          "output_type": "stream",
          "name": "stdout",
          "text": [
            "Dictionary after removing a key-value pair: {'a': 1, 'c': 3, 'd': 4}\n"
          ]
        }
      ]
    },
    {
      "cell_type": "code",
      "source": [
        "# Modifying a value in the dictionary\n",
        "my_dict['a'] = 10\n",
        "print(\"Dictionary after modifying a value:\", my_dict)"
      ],
      "metadata": {
        "colab": {
          "base_uri": "https://localhost:8080/"
        },
        "id": "gNNtAMLVPnQd",
        "outputId": "c445208f-f7ac-4a1f-9531-14ee724aafd6"
      },
      "execution_count": 8,
      "outputs": [
        {
          "output_type": "stream",
          "name": "stdout",
          "text": [
            "Dictionary after modifying a value: {'a': 10, 'c': 3, 'd': 4}\n"
          ]
        }
      ]
    },
    {
      "cell_type": "markdown",
      "source": [
        "Set"
      ],
      "metadata": {
        "id": "Xm0Mc8K9Qg17"
      }
    },
    {
      "cell_type": "code",
      "source": [
        "# Creating a set\n",
        "my_set = {1, 2, 3, 4, 5}\n",
        "my_set"
      ],
      "metadata": {
        "colab": {
          "base_uri": "https://localhost:8080/"
        },
        "id": "mL2ZCIraP0eb",
        "outputId": "3892d2d4-2d31-41fa-ff69-da713faeebef"
      },
      "execution_count": 17,
      "outputs": [
        {
          "output_type": "execute_result",
          "data": {
            "text/plain": [
              "{1, 2, 3, 4, 5}"
            ]
          },
          "metadata": {},
          "execution_count": 17
        }
      ]
    },
    {
      "cell_type": "code",
      "source": [
        "# Adding an element to the set\n",
        "my_set.add(6)\n",
        "print(\"Set after adding an element:\", my_set)"
      ],
      "metadata": {
        "colab": {
          "base_uri": "https://localhost:8080/"
        },
        "id": "CqjFuD7qP4AS",
        "outputId": "f7a9bd6b-6558-4b47-c111-9f9fd73a69ea"
      },
      "execution_count": 10,
      "outputs": [
        {
          "output_type": "stream",
          "name": "stdout",
          "text": [
            "Set after adding an element: {1, 2, 3, 4, 5, 6}\n"
          ]
        }
      ]
    },
    {
      "cell_type": "code",
      "source": [
        "# Removing an element from the set\n",
        "my_set.remove(3)\n",
        "print(\"Set after removing an element:\", my_set)"
      ],
      "metadata": {
        "colab": {
          "base_uri": "https://localhost:8080/"
        },
        "id": "IWEI32AvP658",
        "outputId": "beb4c8ba-14d1-4ac8-baed-c2360356287c"
      },
      "execution_count": 11,
      "outputs": [
        {
          "output_type": "stream",
          "name": "stdout",
          "text": [
            "Set after removing an element: {1, 2, 4, 5, 6}\n"
          ]
        }
      ]
    },
    {
      "cell_type": "code",
      "source": [
        "# Sets are inherently unordered, so no direct modification of elements like list\n",
        "# To 'modify', we typically remove the old element and add a new one\n",
        "my_set.remove(4)\n",
        "my_set.add(10)\n",
        "print(\"Set after 'modifying' an element:\", my_set)"
      ],
      "metadata": {
        "colab": {
          "base_uri": "https://localhost:8080/"
        },
        "id": "ikcbWnCuP92e",
        "outputId": "1510880b-b2a1-4232-c92d-7303b809db65"
      },
      "execution_count": 12,
      "outputs": [
        {
          "output_type": "stream",
          "name": "stdout",
          "text": [
            "Set after 'modifying' an element: {1, 2, 5, 6, 10}\n"
          ]
        }
      ]
    }
  ]
}